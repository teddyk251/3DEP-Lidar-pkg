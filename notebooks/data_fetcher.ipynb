{
 "cells": [
  {
   "cell_type": "code",
   "execution_count": 1,
   "metadata": {},
   "outputs": [],
   "source": [
    "import pdal\n",
    "import json\n",
    "import sys\n",
    "import geopandas as gpd\n",
    "from shapely.geometry import Polygon\n",
    "from shapely.geometry import Point\n",
    "import numpy as np\n",
    "import matplotlib.pyplot as plt\n",
    "from mpl_toolkits import mplot3d"
   ]
  },
  {
   "cell_type": "code",
   "execution_count": 2,
   "metadata": {},
   "outputs": [],
   "source": [
    "import geopandas as gpd\n",
    "from shapely.geometry import Polygon\n",
    "\n",
    "MINX, MINY, MAXX, MAXY = [-93.756155, 41.918015, -93.747334, 41.921429]\n",
    "polygon = Polygon(((MINX, MINY), (MINX, MAXY),\n",
    "                  (MAXX, MAXY), (MAXX, MINY), (MINX, MINY)))\n",
    "\n",
    "grid = gpd.GeoDataFrame([polygon], columns=[\"geometry\"])"
   ]
  },
  {
   "cell_type": "code",
   "execution_count": 3,
   "metadata": {},
   "outputs": [],
   "source": [
    "import os\n",
    "sys.path.append(os.path.abspath(os.path.join('../src')))\n"
   ]
  },
  {
   "cell_type": "code",
   "execution_count": 4,
   "metadata": {},
   "outputs": [],
   "source": [
    "from data_fetcher import DataFetcher"
   ]
  },
  {
   "cell_type": "code",
   "execution_count": 5,
   "metadata": {},
   "outputs": [
    {
     "name": "stdout",
     "output_type": "stream",
     "text": [
      "Pipeline Template loaded successfully\n"
     ]
    }
   ],
   "source": [
    "df = DataFetcher(polygon=polygon, region=\"IA_FullState\", epsg=\"4326\")"
   ]
  },
  {
   "cell_type": "code",
   "execution_count": 6,
   "metadata": {},
   "outputs": [],
   "source": [
    "df.fetch_data()"
   ]
  },
  {
   "cell_type": "code",
   "execution_count": 7,
   "metadata": {},
   "outputs": [],
   "source": [
    "a = df.get_elevation_geodf()"
   ]
  },
  {
   "cell_type": "code",
   "execution_count": 8,
   "metadata": {},
   "outputs": [],
   "source": [
    "a.to_csv('../data/data_fetcher_test.csv')"
   ]
  },
  {
   "cell_type": "code",
   "execution_count": 9,
   "metadata": {},
   "outputs": [
    {
     "data": {
      "text/html": [
       "<div>\n",
       "<style scoped>\n",
       "    .dataframe tbody tr th:only-of-type {\n",
       "        vertical-align: middle;\n",
       "    }\n",
       "\n",
       "    .dataframe tbody tr th {\n",
       "        vertical-align: top;\n",
       "    }\n",
       "\n",
       "    .dataframe thead th {\n",
       "        text-align: right;\n",
       "    }\n",
       "</style>\n",
       "<table border=\"1\" class=\"dataframe\">\n",
       "  <thead>\n",
       "    <tr style=\"text-align: right;\">\n",
       "      <th></th>\n",
       "      <th>elevation</th>\n",
       "      <th>geometry</th>\n",
       "    </tr>\n",
       "  </thead>\n",
       "  <tbody>\n",
       "    <tr>\n",
       "      <th>0</th>\n",
       "      <td>318.49</td>\n",
       "      <td>POINT (-93.74734 41.92142)</td>\n",
       "    </tr>\n",
       "    <tr>\n",
       "      <th>1</th>\n",
       "      <td>318.37</td>\n",
       "      <td>POINT (-93.74735 41.92142)</td>\n",
       "    </tr>\n",
       "    <tr>\n",
       "      <th>2</th>\n",
       "      <td>318.41</td>\n",
       "      <td>POINT (-93.74736 41.92142)</td>\n",
       "    </tr>\n",
       "    <tr>\n",
       "      <th>3</th>\n",
       "      <td>318.15</td>\n",
       "      <td>POINT (-93.74748 41.92143)</td>\n",
       "    </tr>\n",
       "    <tr>\n",
       "      <th>4</th>\n",
       "      <td>318.29</td>\n",
       "      <td>POINT (-93.74747 41.92142)</td>\n",
       "    </tr>\n",
       "    <tr>\n",
       "      <th>...</th>\n",
       "      <td>...</td>\n",
       "      <td>...</td>\n",
       "    </tr>\n",
       "    <tr>\n",
       "      <th>401572</th>\n",
       "      <td>318.04</td>\n",
       "      <td>POINT (-93.74811 41.92141)</td>\n",
       "    </tr>\n",
       "    <tr>\n",
       "      <th>401573</th>\n",
       "      <td>318.10</td>\n",
       "      <td>POINT (-93.74790 41.92143)</td>\n",
       "    </tr>\n",
       "    <tr>\n",
       "      <th>401574</th>\n",
       "      <td>317.77</td>\n",
       "      <td>POINT (-93.74821 41.92141)</td>\n",
       "    </tr>\n",
       "    <tr>\n",
       "      <th>401575</th>\n",
       "      <td>317.88</td>\n",
       "      <td>POINT (-93.74823 41.92141)</td>\n",
       "    </tr>\n",
       "    <tr>\n",
       "      <th>401576</th>\n",
       "      <td>317.95</td>\n",
       "      <td>POINT (-93.74810 41.92143)</td>\n",
       "    </tr>\n",
       "  </tbody>\n",
       "</table>\n",
       "<p>401577 rows × 2 columns</p>\n",
       "</div>"
      ],
      "text/plain": [
       "        elevation                    geometry\n",
       "0          318.49  POINT (-93.74734 41.92142)\n",
       "1          318.37  POINT (-93.74735 41.92142)\n",
       "2          318.41  POINT (-93.74736 41.92142)\n",
       "3          318.15  POINT (-93.74748 41.92143)\n",
       "4          318.29  POINT (-93.74747 41.92142)\n",
       "...           ...                         ...\n",
       "401572     318.04  POINT (-93.74811 41.92141)\n",
       "401573     318.10  POINT (-93.74790 41.92143)\n",
       "401574     317.77  POINT (-93.74821 41.92141)\n",
       "401575     317.88  POINT (-93.74823 41.92141)\n",
       "401576     317.95  POINT (-93.74810 41.92143)\n",
       "\n",
       "[401577 rows x 2 columns]"
      ]
     },
     "execution_count": 9,
     "metadata": {},
     "output_type": "execute_result"
    }
   ],
   "source": [
    "df.elevation_geodf"
   ]
  },
  {
   "cell_type": "code",
   "execution_count": null,
   "metadata": {},
   "outputs": [],
   "source": []
  }
 ],
 "metadata": {
  "kernelspec": {
   "display_name": "Python 3.10.5 ('pda')",
   "language": "python",
   "name": "python3"
  },
  "language_info": {
   "codemirror_mode": {
    "name": "ipython",
    "version": 3
   },
   "file_extension": ".py",
   "mimetype": "text/x-python",
   "name": "python",
   "nbconvert_exporter": "python",
   "pygments_lexer": "ipython3",
   "version": "3.10.5"
  },
  "orig_nbformat": 4,
  "vscode": {
   "interpreter": {
    "hash": "a4fd5bb329291cd337d19eb36b3e133f11890bb25db1051cc1b39646d2741fb9"
   }
  }
 },
 "nbformat": 4,
 "nbformat_minor": 2
}
